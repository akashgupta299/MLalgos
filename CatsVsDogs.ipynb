{
 "cells": [
  {
   "cell_type": "code",
   "execution_count": 135,
   "metadata": {},
   "outputs": [],
   "source": [
    "import keras\n",
    "import numpy as np\n",
    "import matplotlib.pyplot as plt\n",
    "import os\n",
    "import shutil"
   ]
  },
  {
   "cell_type": "code",
   "execution_count": 215,
   "metadata": {},
   "outputs": [],
   "source": [
    "make_dir(train_main_dir)"
   ]
  },
  {
   "cell_type": "markdown",
   "metadata": {},
   "source": [
    "# Data"
   ]
  },
  {
   "cell_type": "code",
   "execution_count": 216,
   "metadata": {},
   "outputs": [],
   "source": [
    "train_main_dir = '/Users/akash/Downloads/all/train1'\n",
    "test_main_dir = '/Users/akash/Downloads/all/test1'\n",
    "valid_main_dir = '/Users/akash/Downloads/all/valid'\n",
    "\n",
    "dogs_train_main_dir = os.path.join(train_main_dir , 'dogs')\n",
    "cats_train_main_dir = os.path.join(train_main_dir , 'cats')\n",
    "\n",
    "dogs_test_main_dir = os.path.join(test_main_dir , 'dogs')\n",
    "cats_test_main_dir = os.path.join(test_main_dir , 'cats')\n",
    "\n",
    "dogs_valid_main_dir = os.path.join(valid_main_dir , 'dogs')\n",
    "cats_valid_main_dir = os.path.join(valid_main_dir , 'cats')\n",
    "\n",
    "\n"
   ]
  },
  {
   "cell_type": "code",
   "execution_count": 217,
   "metadata": {},
   "outputs": [],
   "source": [
    "def make_dir(dir_name):\n",
    "    if not os.path.exists(dir_name):\n",
    "        os.mkdir(dir_name)\n",
    "        \n",
    "def get_files_path(from_number , to_number):\n",
    "    train_main_dir = '/Users/akash/Downloads/all/train'\n",
    "    cat_names = ['cat.{}.jpg'.format(i) for i in range(from_number ,to_number)]\n",
    "    dog_names = ['dog.{}.jpg'.format(i) for i in range(from_number ,to_number)]\n",
    "    cat_paths = [os.path.join(train_main_dir , i) for i in cat_names]\n",
    "    dog_paths = [os.path.join(train_main_dir , i) for i in dog_names]\n",
    "\n",
    "    return cat_paths , dog_paths\n",
    "\n",
    "def copy_to(files , dest_path):\n",
    "    try :\n",
    "        make_dir(dest_path)\n",
    "    except:\n",
    "        raise OSError\n",
    "    for name in files:\n",
    "        try:\n",
    "            file_name = name.split('/')[-1]\n",
    "            dest_file_name= os.path.join(dest_path , file_name)\n",
    "            shutil.copy(name , dest_file_name)\n",
    "        except:\n",
    "            continue\n",
    "        \n",
    "    return True"
   ]
  },
  {
   "cell_type": "code",
   "execution_count": 218,
   "metadata": {},
   "outputs": [],
   "source": [
    "\n",
    "cat_train_paths ,dog_train_paths  = get_files_path(0,1000)\n",
    "cat_test_paths ,dog_test_paths  = get_files_path(1000,1500)\n",
    "cat_valid_paths , dog_valid_paths = get_files_path(1500,2000)"
   ]
  },
  {
   "cell_type": "code",
   "execution_count": 219,
   "metadata": {},
   "outputs": [
    {
     "data": {
      "text/plain": [
       "True"
      ]
     },
     "execution_count": 219,
     "metadata": {},
     "output_type": "execute_result"
    }
   ],
   "source": [
    "copy_to(dog_train_paths ,dogs_train_main_dir )\n",
    "copy_to(cat_train_paths ,cats_train_main_dir )\n",
    "copy_to(dog_test_paths ,dogs_test_main_dir )\n",
    "copy_to(cat_test_paths ,cats_test_main_dir )\n",
    "copy_to(dog_valid_paths ,dogs_valid_main_dir )\n",
    "copy_to(cat_valid_paths ,cats_valid_main_dir )"
   ]
  },
  {
   "cell_type": "code",
   "execution_count": 141,
   "metadata": {},
   "outputs": [
    {
     "name": "stdout",
     "output_type": "stream",
     "text": [
      "1000\n",
      "1000\n",
      "500\n",
      "500\n",
      "500\n",
      "500\n"
     ]
    }
   ],
   "source": [
    "for d in [dogs_train_main_dir ,cats_train_main_dir ,dogs_test_main_dir ,cats_test_main_dir ,dogs_valid_main_dir ,cats_valid_main_dir]:\n",
    "    print(len(os.listdir(d)))"
   ]
  },
  {
   "cell_type": "markdown",
   "metadata": {},
   "source": [
    "# PreProcessing"
   ]
  },
  {
   "cell_type": "code",
   "execution_count": 222,
   "metadata": {},
   "outputs": [],
   "source": [
    "#!pydoc keras.preprocessing.image\n",
    "ImageDataGenerator.flow_from_directory?"
   ]
  },
  {
   "cell_type": "code",
   "execution_count": 225,
   "metadata": {},
   "outputs": [],
   "source": [
    "from keras.preprocessing.image import ImageDataGenerator\n",
    "train_data_gen = ImageDataGenerator(rescale = 1./255)\n",
    "test_data_gen = ImageDataGenerator(rescale = 1./255)"
   ]
  },
  {
   "cell_type": "code",
   "execution_count": 234,
   "metadata": {},
   "outputs": [
    {
     "name": "stdout",
     "output_type": "stream",
     "text": [
      "Found 2000 images belonging to 2 classes.\n",
      "Found 1000 images belonging to 2 classes.\n"
     ]
    }
   ],
   "source": [
    "train_data_gen = train_data_gen.flow_from_directory(directory = train_main_dir ,\n",
    "                                       target_size = (150 , 150 ) , \n",
    "                                       batch_size = 16 , \n",
    "                                       class_mode = 'binary' )\n",
    "\n",
    "\n",
    "test_data_gen = test_data_gen.flow_from_directory(directory = test_main_dir ,\n",
    "                                       target_size = (150 , 150 ) , \n",
    "                                       batch_size = 16 , \n",
    "                                       class_mode = 'binary' )"
   ]
  },
  {
   "cell_type": "markdown",
   "metadata": {},
   "source": [
    "# Model"
   ]
  },
  {
   "cell_type": "code",
   "execution_count": 93,
   "metadata": {},
   "outputs": [],
   "source": [
    "from keras import layers\n",
    "from keras import models\n",
    "from keras import optimizers\n",
    "from keras.models import load_model"
   ]
  },
  {
   "cell_type": "code",
   "execution_count": 97,
   "metadata": {},
   "outputs": [],
   "source": [
    "model = models.Sequential()"
   ]
  },
  {
   "cell_type": "code",
   "execution_count": 98,
   "metadata": {},
   "outputs": [],
   "source": [
    "model.add(layers.Conv2D(32 , (3,3), activation= 'relu' , input_shape = (150,150,3)))"
   ]
  },
  {
   "cell_type": "code",
   "execution_count": 99,
   "metadata": {},
   "outputs": [],
   "source": [
    "model.add(layers.MaxPooling2D((2,2)))"
   ]
  },
  {
   "cell_type": "code",
   "execution_count": 100,
   "metadata": {},
   "outputs": [],
   "source": [
    "model.add(layers.Conv2D(64 , (3,3), activation= 'relu' , input_shape = (150,150,3)))"
   ]
  },
  {
   "cell_type": "code",
   "execution_count": 101,
   "metadata": {},
   "outputs": [],
   "source": [
    "model.add(layers.MaxPooling2D((2,2)))"
   ]
  },
  {
   "cell_type": "code",
   "execution_count": 102,
   "metadata": {},
   "outputs": [],
   "source": [
    "model.add(layers.Conv2D(128 , (3,3), activation= 'relu' , input_shape = (150,150,3)))"
   ]
  },
  {
   "cell_type": "code",
   "execution_count": 103,
   "metadata": {},
   "outputs": [],
   "source": [
    "model.add(layers.MaxPooling2D((2,2)))\n",
    "model.add(layers.Conv2D(128 , (3,3), activation= 'relu' , input_shape = (150,150,3)))\n",
    "model.add(layers.MaxPooling2D((2,2)))\n"
   ]
  },
  {
   "cell_type": "code",
   "execution_count": 104,
   "metadata": {},
   "outputs": [],
   "source": [
    "model.add(layers.Flatten())\n",
    "model.add(layers.Dense(512 , activation='relu'))\n",
    "model.add(layers.Dense(1 , activation='softmax'))"
   ]
  },
  {
   "cell_type": "code",
   "execution_count": 105,
   "metadata": {},
   "outputs": [
    {
     "name": "stdout",
     "output_type": "stream",
     "text": [
      "_________________________________________________________________\n",
      "Layer (type)                 Output Shape              Param #   \n",
      "=================================================================\n",
      "conv2d_8 (Conv2D)            (None, 148, 148, 32)      896       \n",
      "_________________________________________________________________\n",
      "max_pooling2d_8 (MaxPooling2 (None, 74, 74, 32)        0         \n",
      "_________________________________________________________________\n",
      "conv2d_9 (Conv2D)            (None, 72, 72, 64)        18496     \n",
      "_________________________________________________________________\n",
      "max_pooling2d_9 (MaxPooling2 (None, 36, 36, 64)        0         \n",
      "_________________________________________________________________\n",
      "conv2d_10 (Conv2D)           (None, 34, 34, 128)       73856     \n",
      "_________________________________________________________________\n",
      "max_pooling2d_10 (MaxPooling (None, 17, 17, 128)       0         \n",
      "_________________________________________________________________\n",
      "conv2d_11 (Conv2D)           (None, 15, 15, 128)       147584    \n",
      "_________________________________________________________________\n",
      "max_pooling2d_11 (MaxPooling (None, 7, 7, 128)         0         \n",
      "_________________________________________________________________\n",
      "flatten_3 (Flatten)          (None, 6272)              0         \n",
      "_________________________________________________________________\n",
      "dense_1 (Dense)              (None, 512)               3211776   \n",
      "_________________________________________________________________\n",
      "dense_2 (Dense)              (None, 1)                 513       \n",
      "=================================================================\n",
      "Total params: 3,453,121\n",
      "Trainable params: 3,453,121\n",
      "Non-trainable params: 0\n",
      "_________________________________________________________________\n"
     ]
    }
   ],
   "source": [
    "model.summary()"
   ]
  },
  {
   "cell_type": "code",
   "execution_count": 230,
   "metadata": {},
   "outputs": [],
   "source": [
    "model.compile(loss='binary_crossentropy' , optimizer=optimizers.RMSprop(lr=0.01) , metrics=['acc'])"
   ]
  },
  {
   "cell_type": "code",
   "execution_count": 89,
   "metadata": {},
   "outputs": [],
   "source": [
    "model.save('/Users/akash/Downloads/all/catsvsdogsv1.json')"
   ]
  },
  {
   "cell_type": "code",
   "execution_count": null,
   "metadata": {},
   "outputs": [],
   "source": []
  },
  {
   "cell_type": "code",
   "execution_count": 95,
   "metadata": {},
   "outputs": [],
   "source": [
    "model2 = load_model('/Users/akash/Downloads/all/catsvsdogsv1.json')"
   ]
  },
  {
   "cell_type": "code",
   "execution_count": 96,
   "metadata": {},
   "outputs": [
    {
     "name": "stdout",
     "output_type": "stream",
     "text": [
      "_________________________________________________________________\n",
      "Layer (type)                 Output Shape              Param #   \n",
      "=================================================================\n",
      "conv2d_4 (Conv2D)            (None, 148, 148, 32)      896       \n",
      "_________________________________________________________________\n",
      "max_pooling2d_4 (MaxPooling2 (None, 74, 74, 32)        0         \n",
      "_________________________________________________________________\n",
      "conv2d_5 (Conv2D)            (None, 72, 72, 64)        18496     \n",
      "_________________________________________________________________\n",
      "max_pooling2d_5 (MaxPooling2 (None, 36, 36, 64)        0         \n",
      "_________________________________________________________________\n",
      "conv2d_6 (Conv2D)            (None, 34, 34, 128)       73856     \n",
      "_________________________________________________________________\n",
      "max_pooling2d_6 (MaxPooling2 (None, 17, 17, 128)       0         \n",
      "_________________________________________________________________\n",
      "conv2d_7 (Conv2D)            (None, 15, 15, 128)       147584    \n",
      "_________________________________________________________________\n",
      "max_pooling2d_7 (MaxPooling2 (None, 7, 7, 128)         0         \n",
      "_________________________________________________________________\n",
      "flatten_2 (Flatten)          (None, 6272)              0         \n",
      "=================================================================\n",
      "Total params: 240,832\n",
      "Trainable params: 240,832\n",
      "Non-trainable params: 0\n",
      "_________________________________________________________________\n"
     ]
    }
   ],
   "source": [
    "model2.summary()"
   ]
  },
  {
   "cell_type": "code",
   "execution_count": 237,
   "metadata": {},
   "outputs": [
    {
     "name": "stdout",
     "output_type": "stream",
     "text": [
      "Epoch 1/5\n",
      "2/2 [==============================] - 4s 2s/step - loss: 5.4802 - acc: 0.6562 - val_loss: 5.4802 - val_acc: 0.6562\n",
      "Epoch 2/5\n",
      "2/2 [==============================] - 3s 2s/step - loss: 6.4766 - acc: 0.5938 - val_loss: 5.9784 - val_acc: 0.6250\n",
      "Epoch 3/5\n",
      "2/2 [==============================] - 3s 1s/step - loss: 9.4658 - acc: 0.4062 - val_loss: 7.9712 - val_acc: 0.5000\n",
      "Epoch 4/5\n",
      "2/2 [==============================] - 3s 1s/step - loss: 5.9784 - acc: 0.6250 - val_loss: 9.9640 - val_acc: 0.3750\n",
      "Epoch 5/5\n",
      "2/2 [==============================] - 3s 2s/step - loss: 7.9712 - acc: 0.5000 - val_loss: 7.4730 - val_acc: 0.5312\n"
     ]
    }
   ],
   "source": [
    " history = model.fit_generator(train_data_gen , steps_per_epoch= 2 , epochs = 5 , validation_data= test_data_gen , validation_steps= 2)"
   ]
  },
  {
   "cell_type": "code",
   "execution_count": 238,
   "metadata": {},
   "outputs": [],
   "source": [
    "model.save('/Users/akash/Downloads/all/catsvsdogs_1.h5')"
   ]
  },
  {
   "cell_type": "code",
   "execution_count": 239,
   "metadata": {},
   "outputs": [
    {
     "data": {
      "image/png": "[encoded data removed]",
      "text/plain": [
       "<matplotlib.figure.Figure at 0x1819b29160>"
      ]
     },
     "metadata": {},
     "output_type": "display_data"
    },
    {
     "data": {
      "image/png": "[encoded data removed]",
      "text/plain": [
       "<matplotlib.figure.Figure at 0x181b2f65f8>"
      ]
     },
     "metadata": {},
     "output_type": "display_data"
    }
   ],
   "source": [
    "import matplotlib.pyplot as plt\n",
    "acc = history.history['acc']\n",
    "val_acc = history.history['val_acc']\n",
    "loss = history.history['loss']\n",
    "val_loss = history.history['val_loss']\n",
    "epochs = range(1, len(acc) + 1)\n",
    "plt.plot(epochs, acc, 'bo', label='Training acc')\n",
    "plt.plot(epochs, val_acc, 'b', label='Validation acc')\n",
    "plt.title('Training and validation accuracy')\n",
    "plt.legend()\n",
    "plt.figure()\n",
    "plt.plot(epochs, loss, 'bo', label='Training loss')\n",
    "plt.plot(epochs, val_loss, 'b', label='Validation loss')\n",
    "plt.title('Training and validation loss')\n",
    "plt.legend()\n",
    "plt.show()"
   ]
  },
  {
   "cell_type": "code",
   "execution_count": 240,
   "metadata": {},
   "outputs": [],
   "source": [
    "from keras.applications import VGG16"
   ]
  },
  {
   "cell_type": "code",
   "execution_count": 242,
   "metadata": {},
   "outputs": [
    {
     "name": "stdout",
     "output_type": "stream",
     "text": [
      "Downloading data from https://github.com/fchollet/deep-learning-models/releases/download/v0.1/vgg16_weights_tf_dim_ordering_tf_kernels_notop.h5\n",
      "58892288/58889256 [==============================] - 40s 1us/step\n"
     ]
    }
   ],
   "source": [
    "conv_base = VGG16(weights = 'imagenet' , include_top=False , input_shape= (150 , 150 , 3))"
   ]
  },
  {
   "cell_type": "code",
   "execution_count": 244,
   "metadata": {},
   "outputs": [],
   "source": [
    "model = models.Sequential()"
   ]
  },
  {
   "cell_type": "code",
   "execution_count": 245,
   "metadata": {},
   "outputs": [],
   "source": [
    "model.add(conv_base)"
   ]
  },
  {
   "cell_type": "code",
   "execution_count": null,
   "metadata": {},
   "outputs": [],
   "source": [
    "model.add(layers.Flatten())"
   ]
  },
  {
   "cell_type": "code",
   "execution_count": 279,
   "metadata": {},
   "outputs": [],
   "source": [
    "def extract_features(directory , sample_count):\n",
    "    features = np.zeros(shape = (sample_count , 4,4,512))\n",
    "    labels = np.zeros(shape= (sample_count))\n",
    "    batchSize = 32\n",
    "    gen = ImageDataGenerator(rescale=1./255)\n",
    "    gen = gen.flow_from_directory(directory , target_size = (150,150) , batch_size = batchSize , class_mode = 'binary')\n",
    "    i = 0\n",
    "    for inputs_batch , labels_batch in gen:\n",
    "        features_batch = conv_base.predict(inputs_batch)\n",
    "        print(features_batch.shape)\n",
    "        features[i*batchSize : (i+1)* batchSize ,:,:,:] = features_batch\n",
    "        labels[i*batchSize : (i+1)* batchSize] = labels_batch\n",
    "        i+=1\n",
    "        if i*batchSize >= sample_count:\n",
    "            break\n",
    "    return features , labels"
   ]
  },
  {
   "cell_type": "code",
   "execution_count": 280,
   "metadata": {},
   "outputs": [
    {
     "name": "stdout",
     "output_type": "stream",
     "text": [
      "Found 2000 images belonging to 2 classes.\n",
      "(32, 4, 4, 512)\n",
      "(32, 4, 4, 512)\n"
     ]
    }
   ],
   "source": [
    "train_features , train_labels = extract_features(train_main_dir , 64)"
   ]
  },
  {
   "cell_type": "code",
   "execution_count": 283,
   "metadata": {},
   "outputs": [
    {
     "name": "stdout",
     "output_type": "stream",
     "text": [
      "Found 1000 images belonging to 2 classes.\n",
      "(32, 4, 4, 512)\n",
      "(32, 4, 4, 512)\n"
     ]
    }
   ],
   "source": [
    "test_features , test_labels = extract_features(test_main_dir , 64)"
   ]
  },
  {
   "cell_type": "code",
   "execution_count": 284,
   "metadata": {},
   "outputs": [
    {
     "name": "stdout",
     "output_type": "stream",
     "text": [
      "Found 1000 images belonging to 2 classes.\n",
      "(32, 4, 4, 512)\n",
      "(32, 4, 4, 512)\n"
     ]
    }
   ],
   "source": [
    "valid_features , valid_labels = extract_features(valid_main_dir , 64)"
   ]
  },
  {
   "cell_type": "code",
   "execution_count": 291,
   "metadata": {},
   "outputs": [],
   "source": [
    "train_features = np.reshape(train_features , (64 ,-1))\n",
    "test_features = np.reshape(test_features , (64 ,-1))\n",
    "valid_features = np.reshape(valid_features , (64 ,-1))"
   ]
  },
  {
   "cell_type": "code",
   "execution_count": 296,
   "metadata": {},
   "outputs": [
    {
     "data": {
      "text/plain": [
       "(64, 8192)"
      ]
     },
     "execution_count": 296,
     "metadata": {},
     "output_type": "execute_result"
    }
   ],
   "source": [
    "train_features.shape"
   ]
  },
  {
   "cell_type": "code",
   "execution_count": 396,
   "metadata": {},
   "outputs": [],
   "source": [
    "model = models.Sequential()"
   ]
  },
  {
   "cell_type": "code",
   "execution_count": 397,
   "metadata": {},
   "outputs": [],
   "source": [
    "model.add(layers.Dense(512 , activation='relu' , input_shape = (8192,) , name = 'dense1' ))"
   ]
  },
  {
   "cell_type": "code",
   "execution_count": 398,
   "metadata": {},
   "outputs": [],
   "source": [
    "model.add(layers.Dropout(0.5 , name = 'dropout1'))\n",
    "model.add(layers.Dense(1 ,activation='sigmoid'  , name = 'dense2'))"
   ]
  },
  {
   "cell_type": "code",
   "execution_count": 399,
   "metadata": {},
   "outputs": [
    {
     "name": "stdout",
     "output_type": "stream",
     "text": [
      "_________________________________________________________________\n",
      "Layer (type)                 Output Shape              Param #   \n",
      "=================================================================\n",
      "dense1 (Dense)               (None, 512)               4194816   \n",
      "_________________________________________________________________\n",
      "dropout1 (Dropout)           (None, 512)               0         \n",
      "_________________________________________________________________\n",
      "dense2 (Dense)               (None, 1)                 513       \n",
      "=================================================================\n",
      "Total params: 4,195,329\n",
      "Trainable params: 4,195,329\n",
      "Non-trainable params: 0\n",
      "_________________________________________________________________\n"
     ]
    }
   ],
   "source": [
    "model.summary()"
   ]
  },
  {
   "cell_type": "code",
   "execution_count": 400,
   "metadata": {},
   "outputs": [],
   "source": [
    "model.compile(loss='binary_crossentropy' , optimizer= optimizers.RMSprop(lr=2e-5) , metrics=['acc'])"
   ]
  },
  {
   "cell_type": "code",
   "execution_count": 401,
   "metadata": {},
   "outputs": [
    {
     "name": "stdout",
     "output_type": "stream",
     "text": [
      "Train on 64 samples, validate on 64 samples\n",
      "Epoch 1/20\n",
      "64/64 [==============================] - 1s 21ms/step - loss: 0.8406 - acc: 0.4844 - val_loss: 0.6719 - val_acc: 0.5312\n",
      "Epoch 2/20\n",
      "64/64 [==============================] - 0s 6ms/step - loss: 0.6701 - acc: 0.5625 - val_loss: 0.6601 - val_acc: 0.6094\n",
      "Epoch 3/20\n",
      "64/64 [==============================] - 0s 5ms/step - loss: 0.6169 - acc: 0.6406 - val_loss: 0.6096 - val_acc: 0.6719\n",
      "Epoch 4/20\n",
      "64/64 [==============================] - 0s 5ms/step - loss: 0.5520 - acc: 0.7188 - val_loss: 0.5957 - val_acc: 0.6719\n",
      "Epoch 5/20\n",
      "64/64 [==============================] - 0s 5ms/step - loss: 0.5734 - acc: 0.7344 - val_loss: 0.5912 - val_acc: 0.7031\n",
      "Epoch 6/20\n",
      "64/64 [==============================] - 0s 5ms/step - loss: 0.5029 - acc: 0.7969 - val_loss: 0.5680 - val_acc: 0.7656\n",
      "Epoch 7/20\n",
      "64/64 [==============================] - 0s 5ms/step - loss: 0.4326 - acc: 0.8125 - val_loss: 0.5674 - val_acc: 0.7344\n",
      "Epoch 8/20\n",
      "64/64 [==============================] - 0s 6ms/step - loss: 0.4393 - acc: 0.8281 - val_loss: 0.5485 - val_acc: 0.7969\n",
      "Epoch 9/20\n",
      "64/64 [==============================] - 0s 5ms/step - loss: 0.4205 - acc: 0.7969 - val_loss: 0.5376 - val_acc: 0.8438\n",
      "Epoch 10/20\n",
      "64/64 [==============================] - 0s 5ms/step - loss: 0.4294 - acc: 0.8594 - val_loss: 0.5264 - val_acc: 0.8438\n",
      "Epoch 11/20\n",
      "64/64 [==============================] - 0s 5ms/step - loss: 0.3745 - acc: 0.8906 - val_loss: 0.5282 - val_acc: 0.8125\n",
      "Epoch 12/20\n",
      "64/64 [==============================] - 0s 7ms/step - loss: 0.3728 - acc: 0.8750 - val_loss: 0.5146 - val_acc: 0.8281\n",
      "Epoch 13/20\n",
      "64/64 [==============================] - 0s 7ms/step - loss: 0.3324 - acc: 0.8438 - val_loss: 0.5093 - val_acc: 0.8125\n",
      "Epoch 14/20\n",
      "64/64 [==============================] - 0s 6ms/step - loss: 0.3362 - acc: 0.9062 - val_loss: 0.5185 - val_acc: 0.7656\n",
      "Epoch 15/20\n",
      "64/64 [==============================] - 0s 5ms/step - loss: 0.3112 - acc: 0.8906 - val_loss: 0.5111 - val_acc: 0.8281\n",
      "Epoch 16/20\n",
      "64/64 [==============================] - 0s 7ms/step - loss: 0.2573 - acc: 0.9531 - val_loss: 0.4942 - val_acc: 0.8125\n",
      "Epoch 17/20\n",
      "64/64 [==============================] - 0s 5ms/step - loss: 0.2929 - acc: 0.8594 - val_loss: 0.4984 - val_acc: 0.8125\n",
      "Epoch 18/20\n",
      "64/64 [==============================] - 0s 5ms/step - loss: 0.2384 - acc: 0.9688 - val_loss: 0.4762 - val_acc: 0.7969\n",
      "Epoch 19/20\n",
      "64/64 [==============================] - 0s 5ms/step - loss: 0.2222 - acc: 0.9219 - val_loss: 0.4958 - val_acc: 0.7969\n",
      "Epoch 20/20\n",
      "64/64 [==============================] - 0s 6ms/step - loss: 0.2319 - acc: 0.9531 - val_loss: 0.4750 - val_acc: 0.8125\n"
     ]
    }
   ],
   "source": [
    "history = model.fit(train_features , train_labels , batch_size=16 , epochs=20 , validation_data=(valid_features ,valid_labels ))"
   ]
  },
  {
   "cell_type": "code",
   "execution_count": 402,
   "metadata": {},
   "outputs": [],
   "source": [
    "acc = history.history['acc']\n",
    "loss = history.history['loss']\n",
    "val_acc = history.history['val_acc']\n",
    "val_loss = history.history['val_loss']"
   ]
  },
  {
   "cell_type": "code",
   "execution_count": 403,
   "metadata": {},
   "outputs": [],
   "source": [
    "import matplotlib.pyplot as plt"
   ]
  },
  {
   "cell_type": "code",
   "execution_count": 404,
   "metadata": {},
   "outputs": [
    {
     "data": {
      "text/plain": [
       "[<matplotlib.lines.Line2D at 0x18217cb5c0>]"
      ]
     },
     "execution_count": 404,
     "metadata": {},
     "output_type": "execute_result"
    },
    {
     "data": {
      "image/png": "[encoded data removed]",
      "text/plain": [
       "<matplotlib.figure.Figure at 0x181e427438>"
      ]
     },
     "metadata": {},
     "output_type": "display_data"
    }
   ],
   "source": [
    "epochs = range(0,len(acc))\n",
    "plt.plot(epochs , acc, )\n",
    "plt.plot(epochs , val_acc , 'bo')"
   ]
  },
  {
   "cell_type": "code",
   "execution_count": 405,
   "metadata": {},
   "outputs": [
    {
     "data": {
      "text/plain": [
       "[<matplotlib.lines.Line2D at 0x1827482550>]"
      ]
     },
     "execution_count": 405,
     "metadata": {},
     "output_type": "execute_result"
    },
    {
     "data": {
      "image/png": "[encoded data removed]",
      "text/plain": [
       "<matplotlib.figure.Figure at 0x18274826d8>"
      ]
     },
     "metadata": {},
     "output_type": "display_data"
    }
   ],
   "source": [
    "plt.plot(epochs , loss, )\n",
    "plt.plot(epochs , val_loss , 'bo')"
   ]
  },
  {
   "cell_type": "code",
   "execution_count": null,
   "metadata": {},
   "outputs": [],
   "source": []
  }
 ],
 "metadata": {
  "kernelspec": {
   "display_name": "Python 3",
   "language": "python",
   "name": "python3"
  },
  "language_info": {
   "codemirror_mode": {
    "name": "ipython",
    "version": 3
   },
   "file_extension": ".py",
   "mimetype": "text/x-python",
   "name": "python",
   "nbconvert_exporter": "python",
   "pygments_lexer": "ipython3",
   "version": "3.6.3"
  }
 },
 "nbformat": 4,
 "nbformat_minor": 2
}
