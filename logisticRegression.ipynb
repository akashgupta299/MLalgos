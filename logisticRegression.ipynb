{
 "cells": [
  {
   "cell_type": "code",
   "execution_count": 2,
   "metadata": {
    "collapsed": true
   },
   "outputs": [],
   "source": [
    "import numpy as np\n",
    "\n",
    "import math"
   ]
  },
  {
   "cell_type": "code",
   "execution_count": 41,
   "metadata": {
    "collapsed": true
   },
   "outputs": [],
   "source": [
    "\n",
    "x_train = [1,2,3,4,5]\n",
    "y_train = [1,1,0,0,0]\n",
    "\n",
    "learning_rate = 0.1\n",
    "epochs = 100\n",
    "\n"
   ]
  },
  {
   "cell_type": "code",
   "execution_count": 42,
   "metadata": {
    "collapsed": true
   },
   "outputs": [],
   "source": [
    "def hypothesis(t0,t1,x):\n",
    "    return (1/(1+ np.exp(-(t0+t1*x))))\n",
    "\n",
    "def lossFunction(t0 , t1):\n",
    "    loss = 0\n",
    "    for i,j in zip(x_train ,y_train):\n",
    "        temp = -j*np.log(hypothesis(t0,t1 ,i)) - (1-j)*np.log(1- hypothesis(t0,t1,i))\n",
    "        loss+=temp\n",
    "    return loss\n",
    "        "
   ]
  },
  {
   "cell_type": "code",
   "execution_count": 43,
   "metadata": {
    "collapsed": true
   },
   "outputs": [],
   "source": [
    "def t0_derivative(to ,t1):\n",
    "    h = 1./1000.\n",
    "    diff = lossFunction(t0+h ,t1) - lossFunction(t0, t1)\n",
    "    grad = diff/h\n",
    "    return grad\n",
    "\n",
    "def t1_derivative(to ,t1):\n",
    "    h = 1./1000.\n",
    "    diff = lossFunction(t0 ,t1 + h) - lossFunction(t0, t1)\n",
    "    grad = diff/h\n",
    "    return grad"
   ]
  },
  {
   "cell_type": "code",
   "execution_count": 44,
   "metadata": {
    "collapsed": true
   },
   "outputs": [],
   "source": [
    "def t0_weightUpdate(t0 ,t1):\n",
    "    t0 = t0 - learning_rate*t0_derivative(t0,t1)\n",
    "    return t0\n",
    "def t1_weightUpdate(t0 ,t1):\n",
    "    t1 = t1 - learning_rate*t1_derivative(t0,t1)\n",
    "    return t1"
   ]
  },
  {
   "cell_type": "code",
   "execution_count": 45,
   "metadata": {},
   "outputs": [],
   "source": [
    "t0 = np.random.uniform(0,1)\n",
    "t1 = np.random.uniform(0,1)\n",
    "\n",
    "for i in range(epochs):\n",
    "    t0 = t0_weightUpdate(t0,t1)\n",
    "    t1 = t1_weightUpdate(t0,t1)\n",
    "\n",
    "\n"
   ]
  },
  {
   "cell_type": "code",
   "execution_count": 51,
   "metadata": {},
   "outputs": [
    {
     "name": "stdout",
     "output_type": "stream",
     "text": [
      "0.00980612515024\n"
     ]
    }
   ],
   "source": [
    "print(hypothesis(t0 ,t1 , 5))"
   ]
  },
  {
   "cell_type": "code",
   "execution_count": null,
   "metadata": {
    "collapsed": true
   },
   "outputs": [],
   "source": []
  }
 ],
 "metadata": {
  "kernelspec": {
   "display_name": "Python 3",
   "language": "python",
   "name": "python3"
  },
  "language_info": {
   "codemirror_mode": {
    "name": "ipython",
    "version": 3
   },
   "file_extension": ".py",
   "mimetype": "text/x-python",
   "name": "python",
   "nbconvert_exporter": "python",
   "pygments_lexer": "ipython3",
   "version": "3.6.3"
  }
 },
 "nbformat": 4,
 "nbformat_minor": 2
}
