{
 "cells": [
  {
   "cell_type": "code",
   "execution_count": 3,
   "metadata": {},
   "outputs": [],
   "source": [
    "import tensorflow as tf"
   ]
  },
  {
   "cell_type": "markdown",
   "metadata": {},
   "source": [
    "# Data"
   ]
  },
  {
   "cell_type": "code",
   "execution_count": 143,
   "metadata": {},
   "outputs": [
    {
     "name": "stdout",
     "output_type": "stream",
     "text": [
      "Extracting MNIST_data/train-images-idx3-ubyte.gz\n",
      "Extracting MNIST_data/train-labels-idx1-ubyte.gz\n",
      "Extracting MNIST_data/t10k-images-idx3-ubyte.gz\n",
      "Extracting MNIST_data/t10k-labels-idx1-ubyte.gz\n"
     ]
    }
   ],
   "source": [
    "\n",
    "from tensorflow.examples.tutorials.mnist import input_data\n",
    "mnist = input_data.read_data_sets(\"MNIST_data/\", one_hot=True)"
   ]
  },
  {
   "cell_type": "markdown",
   "metadata": {},
   "source": [
    "# Parameters"
   ]
  },
  {
   "cell_type": "code",
   "execution_count": 144,
   "metadata": {},
   "outputs": [],
   "source": [
    "numClasses = 10\n",
    "inputSize = 784\n",
    "numHiddenUnits = 50\n",
    "epochs = 10000\n",
    "batchSize = 64\n"
   ]
  },
  {
   "cell_type": "code",
   "execution_count": 145,
   "metadata": {},
   "outputs": [],
   "source": [
    "x = tf.placeholder(tf.float32, [None ,inputSize ])\n",
    "y = tf.placeholder(tf.float32 , [None , numClasses ])"
   ]
  },
  {
   "cell_type": "code",
   "execution_count": 159,
   "metadata": {},
   "outputs": [],
   "source": [
    "#hidden layer variables\n",
    "w1 = tf.Variable(tf.truncated_normal([inputSize,numHiddenUnits] , stddev=0.1))\n",
    "b1 = tf.Variable(tf.truncated_normal([numHiddenUnits]))\n",
    "\n",
    "\n",
    "w2 = tf.Variable(tf.truncated_normal([numHiddenUnits , numClasses] , stddev=0.1))\n",
    "b2 = tf.Variable(tf.truncated_normal([numClasses]))"
   ]
  },
  {
   "cell_type": "code",
   "execution_count": 160,
   "metadata": {},
   "outputs": [],
   "source": [
    "#model\n",
    "hiddenOutput = tf.matmul(x , w1) + b1\n",
    "finalOutput = tf.matmul(hiddenOutput , w2) + b2\n",
    "finalOutput = tf.nn.relu(finalOutput)"
   ]
  },
  {
   "cell_type": "code",
   "execution_count": 161,
   "metadata": {},
   "outputs": [],
   "source": [
    "#lossFunction\n",
    "lossFunction = tf.reduce_mean(tf.nn.softmax_cross_entropy_with_logits(labels = y , logits =finalOutput ))"
   ]
  },
  {
   "cell_type": "code",
   "execution_count": 162,
   "metadata": {},
   "outputs": [],
   "source": [
    "#optimizer\n",
    "optimizer = tf.train.GradientDescentOptimizer(learning_rate= 0.3).minimize(lossFunction)"
   ]
  },
  {
   "cell_type": "code",
   "execution_count": 163,
   "metadata": {},
   "outputs": [],
   "source": [
    "correct_pred = tf.equal(tf.argmax(finalOutput,1) ,tf.argmax(y,1))\n",
    "accuracy = tf.reduce_mean(tf.cast(correct_pred , 'float'))"
   ]
  },
  {
   "cell_type": "code",
   "execution_count": 164,
   "metadata": {},
   "outputs": [],
   "source": [
    "#session\n",
    "sess = tf.Session()\n"
   ]
  },
  {
   "cell_type": "code",
   "execution_count": 165,
   "metadata": {},
   "outputs": [],
   "source": [
    "#initial_global_variables\n",
    "init = tf.global_variables_initializer()\n",
    "sess.run(init)"
   ]
  },
  {
   "cell_type": "code",
   "execution_count": 166,
   "metadata": {},
   "outputs": [
    {
     "name": "stdout",
     "output_type": "stream",
     "text": [
      "0.234375\n",
      "0.953125\n",
      "0.9375\n",
      "0.90625\n",
      "0.953125\n",
      "0.9375\n",
      "0.953125\n",
      "0.953125\n",
      "0.96875\n",
      "0.9375\n",
      "0.96875\n",
      "1.0\n",
      "0.9375\n",
      "0.921875\n",
      "0.953125\n",
      "0.953125\n",
      "0.96875\n",
      "0.96875\n",
      "0.9375\n",
      "0.984375\n",
      "0.96875\n",
      "1.0\n",
      "0.984375\n",
      "0.96875\n",
      "0.953125\n",
      "0.984375\n",
      "0.953125\n",
      "0.90625\n",
      "0.96875\n",
      "0.96875\n",
      "0.96875\n",
      "0.9375\n",
      "0.953125\n",
      "0.96875\n",
      "0.921875\n",
      "0.9375\n",
      "0.90625\n",
      "0.984375\n",
      "0.953125\n",
      "1.0\n",
      "0.984375\n",
      "0.921875\n",
      "0.953125\n",
      "1.0\n",
      "0.96875\n",
      "0.921875\n",
      "0.96875\n",
      "1.0\n",
      "0.9375\n",
      "0.984375\n",
      "0.953125\n",
      "0.96875\n",
      "1.0\n",
      "0.953125\n",
      "0.96875\n",
      "0.90625\n",
      "0.90625\n",
      "0.9375\n",
      "0.953125\n",
      "0.96875\n",
      "0.9375\n",
      "0.953125\n",
      "0.921875\n",
      "0.96875\n",
      "0.96875\n",
      "0.921875\n",
      "0.953125\n",
      "0.9375\n",
      "0.90625\n",
      "0.953125\n",
      "0.96875\n",
      "0.96875\n",
      "0.96875\n",
      "0.9375\n",
      "0.984375\n",
      "0.921875\n",
      "0.984375\n",
      "0.984375\n",
      "0.953125\n",
      "0.984375\n",
      "1.0\n",
      "0.921875\n",
      "0.9375\n",
      "0.9375\n",
      "0.984375\n",
      "0.96875\n",
      "0.984375\n",
      "0.9375\n",
      "0.96875\n",
      "0.984375\n",
      "1.0\n",
      "0.90625\n",
      "0.984375\n",
      "0.984375\n",
      "0.953125\n",
      "0.984375\n",
      "1.0\n",
      "0.96875\n",
      "0.953125\n",
      "0.953125\n"
     ]
    }
   ],
   "source": [
    "for i in range(epochs):\n",
    "    batch = mnist.train.next_batch(batchSize)\n",
    "    batchInput = batch[0]\n",
    "    batchLabels = batch[1]\n",
    "    #print(batchInput.shape , batchLabels.shape)\n",
    "    feedDict = {x:batchInput,\n",
    "               y:batchLabels}\n",
    "    _,loss = sess.run([optimizer,lossFunction] , feed_dict = feedDict)\n",
    "    if i%100==0:\n",
    "        acc = accuracy.eval(session = sess , feed_dict = feedDict)\n",
    "        print(acc)"
   ]
  },
  {
   "cell_type": "code",
   "execution_count": 168,
   "metadata": {},
   "outputs": [
    {
     "data": {
      "text/plain": [
       "0.2170136"
      ]
     },
     "execution_count": 168,
     "metadata": {},
     "output_type": "execute_result"
    }
   ],
   "source": [
    "loss"
   ]
  },
  {
   "cell_type": "code",
   "execution_count": 170,
   "metadata": {},
   "outputs": [],
   "source": [
    "#testing\n",
    "testInputs = mnist.test.images\n",
    "testLabels = mnist.test.labels\n",
    "testAcc= accuracy.eval(session = sess , feed_dict = {x:testInputs , y:testLabels})"
   ]
  },
  {
   "cell_type": "code",
   "execution_count": 171,
   "metadata": {},
   "outputs": [
    {
     "data": {
      "text/plain": [
       "0.9199"
      ]
     },
     "execution_count": 171,
     "metadata": {},
     "output_type": "execute_result"
    }
   ],
   "source": [
    "testAcc"
   ]
  },
  {
   "cell_type": "code",
   "execution_count": 175,
   "metadata": {},
   "outputs": [],
   "source": [
    "#3layer NN\n",
    "\n",
    "x = tf.placeholder(tf.float32, [None ,inputSize ])\n",
    "y = tf.placeholder(tf.float32 , [None , numClasses ])\n",
    "\n",
    "numHiddenUnits1 = 100\n",
    "numHiddenUnits2 = 30\n",
    "w1 = tf.Variable(tf.truncated_normal([inputSize,numHiddenUnits1] , stddev=0.1))\n",
    "b1 = tf.Variable(tf.truncated_normal([numHiddenUnits1]))\n",
    "\n",
    "w2 = tf.Variable(tf.truncated_normal([numHiddenUnits1,numHiddenUnits2] , stddev=0.1))\n",
    "b2 = tf.Variable(tf.truncated_normal([numHiddenUnits2]))\n",
    "\n",
    "w3 = tf.Variable(tf.truncated_normal([numHiddenUnits2 , numClasses] , stddev=0.1))\n",
    "b3 = tf.Variable(tf.truncated_normal([numClasses]))\n",
    "\n",
    "hiddenOutput1 = tf.matmul(x , w1) + b1\n",
    "hiddenOutput2 = tf.matmul(hiddenOutput1 , w2) + b2\n",
    "finalOutput = tf.matmul(hiddenOutput2 , w3) + b3\n",
    "finalOutput = tf.nn.relu(finalOutput)"
   ]
  },
  {
   "cell_type": "code",
   "execution_count": 176,
   "metadata": {},
   "outputs": [
    {
     "name": "stdout",
     "output_type": "stream",
     "text": [
      "0.140625\n",
      "0.34375\n",
      "0.421875\n",
      "0.71875\n",
      "0.765625\n",
      "0.859375\n",
      "0.875\n",
      "0.921875\n",
      "0.96875\n",
      "0.953125\n",
      "0.984375\n",
      "0.953125\n",
      "0.96875\n",
      "1.0\n",
      "0.9375\n",
      "0.9375\n",
      "0.953125\n",
      "0.96875\n",
      "0.9375\n",
      "0.953125\n",
      "0.9375\n",
      "0.953125\n",
      "0.984375\n",
      "1.0\n",
      "0.9375\n",
      "0.9375\n",
      "0.9375\n",
      "0.9375\n",
      "0.953125\n",
      "0.984375\n",
      "0.984375\n",
      "0.96875\n",
      "0.953125\n",
      "0.953125\n",
      "0.96875\n",
      "0.96875\n",
      "0.984375\n",
      "0.96875\n",
      "0.984375\n",
      "0.890625\n",
      "0.953125\n",
      "0.96875\n",
      "0.984375\n",
      "0.96875\n",
      "0.96875\n",
      "0.984375\n",
      "0.984375\n",
      "0.984375\n",
      "0.984375\n",
      "0.984375\n",
      "0.96875\n",
      "0.921875\n",
      "0.96875\n",
      "0.984375\n",
      "0.953125\n",
      "0.984375\n",
      "0.96875\n",
      "1.0\n",
      "0.859375\n",
      "0.984375\n",
      "0.984375\n",
      "0.953125\n",
      "0.921875\n",
      "0.953125\n",
      "0.953125\n",
      "0.953125\n",
      "0.984375\n",
      "0.96875\n",
      "0.90625\n",
      "0.96875\n",
      "0.921875\n",
      "0.984375\n",
      "0.96875\n",
      "0.984375\n",
      "0.984375\n",
      "0.953125\n",
      "0.96875\n",
      "0.9375\n",
      "0.96875\n",
      "0.984375\n",
      "0.96875\n",
      "0.96875\n",
      "1.0\n",
      "0.96875\n",
      "0.9375\n",
      "0.9375\n",
      "0.953125\n",
      "0.953125\n",
      "0.953125\n",
      "0.953125\n",
      "0.96875\n",
      "0.9375\n",
      "0.96875\n",
      "0.984375\n",
      "1.0\n",
      "0.921875\n",
      "0.9375\n",
      "0.984375\n",
      "0.984375\n",
      "0.96875\n"
     ]
    }
   ],
   "source": [
    "lossFunction = tf.reduce_mean(tf.nn.softmax_cross_entropy_with_logits(labels = y , logits =finalOutput ))\n",
    "optimizer = tf.train.GradientDescentOptimizer(learning_rate= 0.3).minimize(lossFunction)\n",
    "\n",
    "correct_pred = tf.equal(tf.argmax(finalOutput,1) ,tf.argmax(y,1))\n",
    "accuracy = tf.reduce_mean(tf.cast(correct_pred , 'float'))\n",
    "\n",
    "sess = tf.Session()\n",
    "#initial_global_variables\n",
    "init = tf.global_variables_initializer()\n",
    "sess.run(init)\n",
    "for i in range(epochs):\n",
    "    batch = mnist.train.next_batch(batchSize)\n",
    "    batchInput = batch[0]\n",
    "    batchLabels = batch[1]\n",
    "    #print(batchInput.shape , batchLabels.shape)\n",
    "    feedDict = {x:batchInput,\n",
    "               y:batchLabels}\n",
    "    _,loss = sess.run([optimizer,lossFunction] , feed_dict = feedDict)\n",
    "    if i%100==0:\n",
    "        acc = accuracy.eval(session = sess , feed_dict = feedDict)\n",
    "        print(acc)"
   ]
  },
  {
   "cell_type": "code",
   "execution_count": null,
   "metadata": {},
   "outputs": [],
   "source": []
  }
 ],
 "metadata": {
  "kernelspec": {
   "display_name": "Python 3",
   "language": "python",
   "name": "python3"
  },
  "language_info": {
   "codemirror_mode": {
    "name": "ipython",
    "version": 3
   },
   "file_extension": ".py",
   "mimetype": "text/x-python",
   "name": "python",
   "nbconvert_exporter": "python",
   "pygments_lexer": "ipython3",
   "version": "3.6.3"
  }
 },
 "nbformat": 4,
 "nbformat_minor": 2
}
