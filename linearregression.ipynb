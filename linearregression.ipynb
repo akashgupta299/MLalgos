{
 "cells": [
  {
   "cell_type": "code",
   "execution_count": 1,
   "metadata": {
    "collapsed": true
   },
   "outputs": [],
   "source": [
    "import numpy as np"
   ]
  },
  {
   "cell_type": "code",
   "execution_count": 2,
   "metadata": {
    "collapsed": true
   },
   "outputs": [],
   "source": [
    "import math"
   ]
  },
  {
   "cell_type": "code",
   "execution_count": 3,
   "metadata": {
    "collapsed": true
   },
   "outputs": [],
   "source": [
    "x_train = [1,2,3,4,5,6,7,8,9,10]\n",
    "y_train = [3,5,4,6,8,7,9,12,10,15]"
   ]
  },
  {
   "cell_type": "code",
   "execution_count": 4,
   "metadata": {
    "collapsed": true
   },
   "outputs": [],
   "source": [
    "learning_rate = 0.01\n",
    "epochs = 100"
   ]
  },
  {
   "cell_type": "code",
   "execution_count": 5,
   "metadata": {
    "collapsed": true
   },
   "outputs": [],
   "source": [
    "def hypothesis(t0,t1,x):\n",
    "    return t0 + t1*x"
   ]
  },
  {
   "cell_type": "code",
   "execution_count": 6,
   "metadata": {
    "collapsed": true
   },
   "outputs": [],
   "source": [
    "def lossFunction(t0 , t1):\n",
    "    loss = 0\n",
    "    for i,j in zip(x_train ,y_train):\n",
    "        temp = math.pow(hypothesis(t0 , t1 , i) - j, 2)\n",
    "        loss+=temp\n",
    "    return loss\n",
    "        "
   ]
  },
  {
   "cell_type": "code",
   "execution_count": 15,
   "metadata": {
    "collapsed": true
   },
   "outputs": [],
   "source": [
    "def t0_derivative(to ,t1):\n",
    "    h = 1./1000.\n",
    "    diff = lossFunction(t0+h ,t1) - lossFunction(t0, t1)\n",
    "    grad = diff/h\n",
    "    return grad\n",
    "\n",
    "def t1_derivative(to ,t1):\n",
    "    h = 1./1000.\n",
    "    diff = lossFunction(t0 ,t1 + h) - lossFunction(t0, t1)\n",
    "    grad = diff/h\n",
    "    return grad"
   ]
  },
  {
   "cell_type": "code",
   "execution_count": 16,
   "metadata": {
    "collapsed": true
   },
   "outputs": [],
   "source": [
    "def t0_weightUpdate(t0 ,t1):\n",
    "    t0 = t0 - learning_rate*t0_derivative(t0,t1)\n",
    "    return t0\n",
    "def t1_weightUpdate(t0 ,t1):\n",
    "    t1 = t1 - learning_rate*t1_derivative(t0,t1)\n",
    "    return t1"
   ]
  },
  {
   "cell_type": "code",
   "execution_count": 17,
   "metadata": {
    "collapsed": true
   },
   "outputs": [],
   "source": [
    "t0 = np.random.uniform(0,1)\n",
    "t1 = np.random.uniform(0,1)\n",
    "\n",
    "for i in range(epochs):\n",
    "    t0 = t0_weightUpdate(t0,t1)\n",
    "    t1 = t1_weightUpdate(t0,t1)\n",
    "\n"
   ]
  },
  {
   "cell_type": "code",
   "execution_count": null,
   "metadata": {},
   "outputs": [],
   "source": []
  },
  {
   "cell_type": "code",
   "execution_count": null,
   "metadata": {},
   "outputs": [],
   "source": []
  },
  {
   "cell_type": "code",
   "execution_count": null,
   "metadata": {
    "collapsed": true
   },
   "outputs": [],
   "source": []
  }
 ],
 "metadata": {
  "kernelspec": {
   "display_name": "Python 3",
   "language": "python",
   "name": "python3"
  },
  "language_info": {
   "codemirror_mode": {
    "name": "ipython",
    "version": 3
   },
   "file_extension": ".py",
   "mimetype": "text/x-python",
   "name": "python",
   "nbconvert_exporter": "python",
   "pygments_lexer": "ipython3",
   "version": "3.6.3"
  }
 },
 "nbformat": 4,
 "nbformat_minor": 2
}
